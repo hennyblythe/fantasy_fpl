{
 "cells": [
  {
   "cell_type": "markdown",
   "metadata": {},
   "source": [
    "---\n",
    "\n",
    "## Get data in..."
   ]
  },
  {
   "cell_type": "code",
   "execution_count": 36,
   "metadata": {},
   "outputs": [
    {
     "name": "stdout",
     "output_type": "stream",
     "text": [
      "['events', 'game_settings', 'phases', 'teams', 'total_players', 'elements', 'element_stats', 'element_types']\n",
      "Columns: \n",
      " ['chance_of_playing_next_round', 'chance_of_playing_this_round', 'code', 'cost_change_event', 'cost_change_event_fall', 'cost_change_start', 'cost_change_start_fall', 'dreamteam_count', 'element_type', 'ep_next', 'ep_this', 'event_points', 'first_name', 'form', 'id', 'in_dreamteam', 'news', 'news_added', 'now_cost', 'photo', 'points_per_game', 'second_name', 'selected_by_percent', 'special', 'squad_number', 'status', 'team', 'team_code', 'total_points', 'transfers_in', 'transfers_in_event', 'transfers_out', 'transfers_out_event', 'value_form', 'value_season', 'web_name', 'minutes', 'goals_scored', 'assists', 'clean_sheets', 'goals_conceded', 'own_goals', 'penalties_saved', 'penalties_missed', 'yellow_cards', 'red_cards', 'saves', 'bonus', 'bps', 'influence', 'creativity', 'threat', 'ict_index'] \n",
      "\n",
      "Dataframe Head: \n",
      "    chance_of_playing_next_round  chance_of_playing_this_round    code  \\\n",
      "0                          25.0                         100.0   69140   \n",
      "1                         100.0                         100.0   98745   \n",
      "2                           0.0                           0.0  111457   \n",
      "3                         100.0                         100.0  154043   \n",
      "4                         100.0                          75.0   39476   \n",
      "\n",
      "   cost_change_event  cost_change_event_fall  cost_change_start  \\\n",
      "0                  0                       0                 -4   \n",
      "1                  0                       0                 -1   \n",
      "2                  0                       0                 -3   \n",
      "3                  0                       0                 -4   \n",
      "4                  0                       0                 -1   \n",
      "\n",
      "   cost_change_start_fall  dreamteam_count  element_type ep_next  ...  \\\n",
      "0                       4                0             2     0.6  ...   \n",
      "1                       1                0             2     2.5  ...   \n",
      "2                       3                0             2     0.0  ...   \n",
      "3                       4                1             2     2.7  ...   \n",
      "4                       1                1             2     4.7  ...   \n",
      "\n",
      "  penalties_missed  yellow_cards red_cards saves  bonus  bps influence  \\\n",
      "0                0             0         0     0      1   77     111.6   \n",
      "1                0             2         0     0      1   54      83.4   \n",
      "2                0             3         0     0      1  219     190.0   \n",
      "3                0             3         1     0      3  216     261.8   \n",
      "4                0             5         0     0      5  286     431.6   \n",
      "\n",
      "  creativity  threat ict_index  \n",
      "0       12.9    75.0      20.0  \n",
      "1       24.8    24.0      13.3  \n",
      "2      156.3    67.0      41.2  \n",
      "3      155.4    37.0      44.9  \n",
      "4       31.8   106.0      57.1  \n",
      "\n",
      "[5 rows x 53 columns]\n"
     ]
    }
   ],
   "source": [
    "import pandas as pd\n",
    "import requests\n",
    "import json\n",
    "import matplotlib.pyplot as plt\n",
    "from pandas.io.json import json_normalize\n",
    "\n",
    "def get_json(file_path):\n",
    "    r = requests.get('https://fantasy.premierleague.com/api/bootstrap-static/')\n",
    "    jsonResponse = r.json()\n",
    "    with open(file_path, 'w') as outfile:\n",
    "        json.dump(jsonResponse, outfile)\n",
    "        \n",
    "get_json('/Users/helenalexandrablythe/Football/test2.json')\n",
    "\n",
    "with open('/Users/helenalexandrablythe/Football/test2.json') as json_data:\n",
    "    d = json.load(json_data)\n",
    "    print(list(d.keys()))\n",
    "\n",
    "    df = json_normalize(d['elements'])\n",
    "print ('Columns: \\n', list(df), '\\n')\n",
    "print ('Dataframe Head: \\n', df.head())"
   ]
  },
  {
   "cell_type": "markdown",
   "metadata": {},
   "source": [
    "---\n",
    "\n",
    "### Get rid of unused columns & rename useful ones:"
   ]
  },
  {
   "cell_type": "code",
   "execution_count": 37,
   "metadata": {},
   "outputs": [],
   "source": [
    "df = df.drop(['assists','element_type','saves','team_code','code','web_name','special','red_cards','id','photo','clean_sheets','goals_conceded','goals_scored','minutes','own_goals','penalties_missed','penalties_saved','points_per_game','squad_number','status','value_form','value_season','yellow_cards'], axis=1)\n",
    "df['name'] = df['first_name']+' '+df['second_name']\n",
    "df = df.drop(['first_name', 'second_name'],axis=1)\n",
    "\n",
    "\n",
    "df.rename(columns={'now_cost' : 'price','transfers_in_event': 'gw_transfers_in', 'transfers_out_event':'gw_transfers_out'}, inplace=True)\n",
    "\n",
    "\n",
    "df['team'] = df['team'].apply(lambda x: str(x))\n",
    "df['ict_index'] = df['ict_index'].apply(lambda x: float(x))\n",
    "df['creativity'] = df['creativity'].apply(lambda x: float(x))\n",
    "df['influence'] = df['influence'].apply(lambda x: float(x))\n",
    "df['threat'] = df['threat'].apply(lambda x: float(x))\n",
    "df['form'] = df['form'].apply(lambda x: float(x))\n",
    "df['selected_by_percent'] = df['selected_by_percent'].apply(lambda x: float(x))\n",
    "\n",
    "\n",
    "df.team = df.team.map({'1':'Arsenal', '2':'Bournemouth','3':'Brighton','4':'Burnley',\n",
    "                       '5':'Cardiff','6':'Chelsea','7':'CrystalPal','8':'Everton','9':'Fulham','10':'Huddersfield', \n",
    "                       '11':'Leicester','12':'Liverpool', '13':'ManCity','14':'ManUtd','15':'Newcastle',\n",
    "                       '16':'Southampton','17':'Spurs','18':'Watford','19':'WestHam','20':'Wolves'})\n",
    "\n",
    "df['price'] = (df['price']/10)"
   ]
  },
  {
   "cell_type": "code",
   "execution_count": 17,
   "metadata": {},
   "outputs": [
    {
     "name": "stdout",
     "output_type": "stream",
     "text": [
      "<class 'pandas.core.frame.DataFrame'>\n",
      "RangeIndex: 611 entries, 0 to 610\n",
      "Data columns (total 29 columns):\n",
      "chance_of_playing_next_round    450 non-null float64\n",
      "chance_of_playing_this_round    444 non-null float64\n",
      "cost_change_event               611 non-null int64\n",
      "cost_change_event_fall          611 non-null int64\n",
      "cost_change_start               611 non-null int64\n",
      "cost_change_start_fall          611 non-null int64\n",
      "dreamteam_count                 611 non-null int64\n",
      "ep_next                         611 non-null object\n",
      "ep_this                         611 non-null object\n",
      "event_points                    611 non-null int64\n",
      "form                            611 non-null float64\n",
      "in_dreamteam                    611 non-null bool\n",
      "news                            611 non-null object\n",
      "news_added                      450 non-null object\n",
      "price                           611 non-null float64\n",
      "selected_by_percent             611 non-null float64\n",
      "team                            611 non-null object\n",
      "total_points                    611 non-null int64\n",
      "transfers_in                    611 non-null int64\n",
      "gw_transfers_in                 611 non-null int64\n",
      "transfers_out                   611 non-null int64\n",
      "gw_transfers_out                611 non-null int64\n",
      "bonus                           611 non-null int64\n",
      "bps                             611 non-null int64\n",
      "influence                       611 non-null float64\n",
      "creativity                      611 non-null float64\n",
      "threat                          611 non-null float64\n",
      "ict_index                       611 non-null float64\n",
      "name                            611 non-null object\n",
      "dtypes: bool(1), float64(9), int64(13), object(6)\n",
      "memory usage: 134.4+ KB\n"
     ]
    }
   ],
   "source": [
    "df.info()"
   ]
  },
  {
   "cell_type": "markdown",
   "metadata": {},
   "source": [
    "---\n",
    "\n",
    "## Visualisation:\n",
    "    \n",
    "#### TOTAL POINTS"
   ]
  },
  {
   "cell_type": "code",
   "execution_count": 38,
   "metadata": {},
   "outputs": [],
   "source": [
    "vis_points_price = df.groupby(['name','price'])['form'].mean().sort_values(ascending=False).head(20)"
   ]
  },
  {
   "cell_type": "code",
   "execution_count": 39,
   "metadata": {},
   "outputs": [
    {
     "data": {
      "image/png": "[encoded data removed]",
      "text/plain": [
       "<Figure size 432x288 with 1 Axes>"
      ]
     },
     "metadata": {
      "needs_background": "light"
     },
     "output_type": "display_data"
    }
   ],
   "source": [
    "vis_points_price.plot(kind='barh')\n",
    "plt.title('Total points per player with price')\n",
    "plt.xlabel('Total points')\n",
    "plt.ylabel('Player & Price')\n",
    "plt.gcf().subplots_adjust(left=0.4)\n",
    "plt.savefig('vis_points_price.png', dpi=100, quality=100)"
   ]
  },
  {
   "cell_type": "code",
   "execution_count": 40,
   "metadata": {},
   "outputs": [
    {
     "data": {
      "text/plain": [
       "name                              price\n",
       "Kevin De Bruyne                   10.6     159\n",
       "Jamie Vardy                       9.9      150\n",
       "Sadio Mané                        12.3     147\n",
       "Mohamed Salah                     12.5     141\n",
       "Trent Alexander-Arnold            7.6      134\n",
       "Marcus Rashford                   8.9      134\n",
       "Raúl Jiménez                      7.6      129\n",
       "Tammy Abraham                     7.7      128\n",
       "Pierre-Emerick Aubameyang         10.7     127\n",
       "Danny Ings                        7.0      126\n",
       "Sergio Agüero                     12.0     119\n",
       "Teemu Pukki                       6.5      117\n",
       "Virgil van Dijk                   6.5      116\n",
       "Raheem Sterling                   11.7     115\n",
       "Andrew Robertson                  7.0      112\n",
       "Roberto Firmino                   9.6      110\n",
       "Riyad Mahrez                      8.5      110\n",
       "James Maddison                    7.6      109\n",
       "Richarlison de Andrade            8.1      108\n",
       "John Lundstram                    5.1      107\n",
       "Jack Grealish                     6.7      107\n",
       "Ricardo Domingos Barbosa Pereira  6.3      106\n",
       "Harry Kane                        10.8     104\n",
       "Ayoze Pérez                       6.1      102\n",
       "Dean Henderson                    5.0      101\n",
       "Heung-Min Son                     9.9      101\n",
       "George Baldock                    5.1      100\n",
       "Adama Traoré                      5.8      100\n",
       "Nick Pope                         4.6       99\n",
       "Ben Foster                        4.9       98\n",
       "Name: total_points, dtype: int64"
      ]
     },
     "execution_count": 40,
     "metadata": {},
     "output_type": "execute_result"
    }
   ],
   "source": [
    "df.groupby(['name','price'])['total_points'].mean().sort_values(ascending=False).head(30)"
   ]
  },
  {
   "cell_type": "code",
   "execution_count": 41,
   "metadata": {},
   "outputs": [],
   "source": [
    "df['form_weighted_tp'] = df['form']*df['total_points']*(df['event_points']/10)"
   ]
  },
  {
   "cell_type": "code",
   "execution_count": 42,
   "metadata": {},
   "outputs": [
    {
     "data": {
      "text/plain": [
       "count    611.000000\n",
       "mean       1.315876\n",
       "std        2.491966\n",
       "min       -3.000000\n",
       "25%        0.000000\n",
       "50%        0.000000\n",
       "75%        2.000000\n",
       "max       15.000000\n",
       "Name: event_points, dtype: float64"
      ]
     },
     "execution_count": 42,
     "metadata": {},
     "output_type": "execute_result"
    }
   ],
   "source": [
    "df.event_points.describe()"
   ]
  },
  {
   "cell_type": "code",
   "execution_count": 43,
   "metadata": {},
   "outputs": [
    {
     "data": {
      "text/plain": [
       "name                              price\n",
       "Ayoze Pérez                       6.1      15\n",
       "Florian Lejeune                   4.4      14\n",
       "Jordan Henderson                  5.4      14\n",
       "Bamidele Alli                     8.5      13\n",
       "Nathan Redmond                    6.2      13\n",
       "Ricardo Domingos Barbosa Pereira  6.3      12\n",
       "Harvey Barnes                     5.9      12\n",
       "Chris Wood                        6.2      12\n",
       "Dean Henderson                    5.0      11\n",
       "Jack Stephens                     4.4      11\n",
       "Ben Mee                           5.0      10\n",
       "Jorge Luiz Frello Filho           4.9      10\n",
       "Nick Pope                         4.6      10\n",
       "Aaron Mooy                        4.8      10\n",
       "Harry Wilson                      5.8       9\n",
       "Troy Deeney                       6.3       9\n",
       "Stuart Armstrong                  5.2       9\n",
       "Moise Kean                        6.4       9\n",
       "Tyrone Mings                      4.5       9\n",
       "Nicolás Otamendi                  5.0       9\n",
       "Mohamed Salah                     12.5      8\n",
       "Gabriel Teodoro Martinelli Silva  4.5       8\n",
       "Dominic Solanke                   5.2       8\n",
       "Héctor Bellerín                   5.4       8\n",
       "Raúl Jiménez                      7.6       8\n",
       "Roberto Firmino                   9.6       8\n",
       "Callum Wilson                     7.4       8\n",
       "Teemu Pukki                       6.5       8\n",
       "Kevin De Bruyne                   10.6      7\n",
       "César Azpilicueta                 5.8       7\n",
       "Name: event_points, dtype: int64"
      ]
     },
     "execution_count": 43,
     "metadata": {},
     "output_type": "execute_result"
    }
   ],
   "source": [
    "df.groupby(['name','price'])['event_points'].mean().sort_values(ascending=False).head(30)"
   ]
  },
  {
   "cell_type": "code",
   "execution_count": 44,
   "metadata": {},
   "outputs": [
    {
     "data": {
      "text/plain": [
       "name                              price\n",
       "Ayoze Pérez                       6.1      1224.00\n",
       "Chris Wood                        6.2       806.40\n",
       "Mohamed Salah                     12.5      699.36\n",
       "Nick Pope                         4.6       643.50\n",
       "Raúl Jiménez                      7.6       639.84\n",
       "Ricardo Domingos Barbosa Pereira  6.3       636.00\n",
       "Dean Henderson                    5.0       611.05\n",
       "Bamidele Alli                     8.5       604.50\n",
       "Kevin De Bruyne                   10.6      556.50\n",
       "Jordan Henderson                  5.4       495.88\n",
       "Harvey Barnes                     5.9       480.00\n",
       "Trent Alexander-Arnold            7.6       450.24\n",
       "Teemu Pukki                       6.5       449.28\n",
       "Sergio Agüero                     12.0      437.92\n",
       "Nathan Redmond                    6.2       435.50\n",
       "Jorge Luiz Frello Filho           4.9       435.00\n",
       "César Azpilicueta                 5.8       431.20\n",
       "Jack Stephens                     4.4       381.92\n",
       "Roberto Firmino                   9.6       369.60\n",
       "Mark Noble                        5.0       290.08\n",
       "Tammy Abraham                     7.7       288.00\n",
       "Ben Mee                           5.0       272.00\n",
       "Lucas Digne                       5.8       249.60\n",
       "Adama Traoré                      5.8       240.00\n",
       "Stuart Armstrong                  5.2       234.90\n",
       "Harry Wilson                      5.8       216.00\n",
       "Virgil van Dijk                   6.5       215.76\n",
       "Riyad Mahrez                      8.5       214.50\n",
       "Heung-Min Son                     9.9       212.10\n",
       "Gerard Deulofeu                   6.1       202.80\n",
       "Name: form_weighted_tp, dtype: float64"
      ]
     },
     "execution_count": 44,
     "metadata": {},
     "output_type": "execute_result"
    }
   ],
   "source": [
    "df.groupby(['name','price'])['form_weighted_tp'].mean().sort_values(ascending=False).head(30)"
   ]
  },
  {
   "cell_type": "code",
   "execution_count": 25,
   "metadata": {},
   "outputs": [
    {
     "name": "stdout",
     "output_type": "stream",
     "text": [
      "<class 'pandas.core.frame.DataFrame'>\n",
      "RangeIndex: 611 entries, 0 to 610\n",
      "Data columns (total 30 columns):\n",
      "chance_of_playing_next_round    450 non-null float64\n",
      "chance_of_playing_this_round    444 non-null float64\n",
      "cost_change_event               611 non-null int64\n",
      "cost_change_event_fall          611 non-null int64\n",
      "cost_change_start               611 non-null int64\n",
      "cost_change_start_fall          611 non-null int64\n",
      "dreamteam_count                 611 non-null int64\n",
      "ep_next                         611 non-null object\n",
      "ep_this                         611 non-null object\n",
      "event_points                    611 non-null int64\n",
      "form                            611 non-null float64\n",
      "in_dreamteam                    611 non-null bool\n",
      "news                            611 non-null object\n",
      "news_added                      450 non-null object\n",
      "price                           611 non-null float64\n",
      "selected_by_percent             611 non-null float64\n",
      "team                            611 non-null object\n",
      "total_points                    611 non-null int64\n",
      "transfers_in                    611 non-null int64\n",
      "gw_transfers_in                 611 non-null int64\n",
      "transfers_out                   611 non-null int64\n",
      "gw_transfers_out                611 non-null int64\n",
      "bonus                           611 non-null int64\n",
      "bps                             611 non-null int64\n",
      "influence                       611 non-null float64\n",
      "creativity                      611 non-null float64\n",
      "threat                          611 non-null float64\n",
      "ict_index                       611 non-null float64\n",
      "name                            611 non-null object\n",
      "form_weighted_tp                611 non-null float64\n",
      "dtypes: bool(1), float64(10), int64(13), object(6)\n",
      "memory usage: 139.2+ KB\n"
     ]
    }
   ],
   "source": [
    "df.info()"
   ]
  },
  {
   "cell_type": "code",
   "execution_count": 26,
   "metadata": {},
   "outputs": [
    {
     "data": {
      "text/plain": [
       "array([0, 1, 2, 3, 4, 6, 5])"
      ]
     },
     "execution_count": 26,
     "metadata": {},
     "output_type": "execute_result"
    }
   ],
   "source": [
    "df.dreamteam_count.unique()"
   ]
  },
  {
   "cell_type": "code",
   "execution_count": 27,
   "metadata": {},
   "outputs": [
    {
     "data": {
      "text/plain": [
       "name                              price\n",
       "Ayoze Pérez                       6.1      1224.00\n",
       "Chris Wood                        6.2       806.40\n",
       "Mohamed Salah                     12.5      699.36\n",
       "Nick Pope                         4.6       643.50\n",
       "Raúl Jiménez                      7.6       639.84\n",
       "Ricardo Domingos Barbosa Pereira  6.3       636.00\n",
       "Dean Henderson                    5.0       611.05\n",
       "Bamidele Alli                     8.5       604.50\n",
       "Kevin De Bruyne                   10.6      556.50\n",
       "Jordan Henderson                  5.4       495.88\n",
       "Harvey Barnes                     5.9       480.00\n",
       "Trent Alexander-Arnold            7.6       450.24\n",
       "Teemu Pukki                       6.5       449.28\n",
       "Sergio Agüero                     12.0      437.92\n",
       "Nathan Redmond                    6.2       435.50\n",
       "Jorge Luiz Frello Filho           4.9       435.00\n",
       "César Azpilicueta                 5.8       431.20\n",
       "Jack Stephens                     4.4       381.92\n",
       "Roberto Firmino                   9.6       369.60\n",
       "Mark Noble                        5.0       331.52\n",
       "Tammy Abraham                     7.7       288.00\n",
       "Ben Mee                           5.0       272.00\n",
       "Lucas Digne                       5.8       249.60\n",
       "Adama Traoré                      5.8       240.00\n",
       "Stuart Armstrong                  5.2       234.90\n",
       "Harry Wilson                      5.8       216.00\n",
       "Virgil van Dijk                   6.5       215.76\n",
       "Riyad Mahrez                      8.5       214.50\n",
       "Heung-Min Son                     9.9       212.10\n",
       "Gerard Deulofeu                   6.1       202.80\n",
       "Name: form_weighted_tp, dtype: float64"
      ]
     },
     "execution_count": 27,
     "metadata": {},
     "output_type": "execute_result"
    }
   ],
   "source": [
    "df.groupby(['name','price'])['form_weighted_tp'].mean().sort_values(ascending=False).head(30)"
   ]
  },
  {
   "cell_type": "code",
   "execution_count": null,
   "metadata": {},
   "outputs": [],
   "source": []
  },
  {
   "cell_type": "markdown",
   "metadata": {},
   "source": [
    "---\n",
    "\n",
    "### News column to eliminate players who are not playing..."
   ]
  },
  {
   "cell_type": "code",
   "execution_count": 28,
   "metadata": {},
   "outputs": [
    {
     "data": {
      "text/plain": [
       "False    539\n",
       "True      72\n",
       "Name: left_team, dtype: int64"
      ]
     },
     "execution_count": 28,
     "metadata": {},
     "output_type": "execute_result"
    }
   ],
   "source": [
    "def left_team(text):\n",
    "    if ('joined' in text.lower()):\n",
    "        return True\n",
    "    else:\n",
    "        return False\n",
    "\n",
    "df['left_team'] = df.news.map(left_team)\n",
    "df.left_team.value_counts()"
   ]
  },
  {
   "cell_type": "code",
   "execution_count": 29,
   "metadata": {},
   "outputs": [
    {
     "data": {
      "text/plain": [
       "False    525\n",
       "True      86\n",
       "Name: injury, dtype: int64"
      ]
     },
     "execution_count": 29,
     "metadata": {},
     "output_type": "execute_result"
    }
   ],
   "source": [
    "def injury(text):\n",
    "    if ('injury' in text.lower()) or ('knock' in text.lower()):\n",
    "        return True\n",
    "    else:\n",
    "        return False\n",
    "\n",
    "df['injury'] = df.news.map(injury)\n",
    "df.injury.value_counts()"
   ]
  },
  {
   "cell_type": "code",
   "execution_count": 30,
   "metadata": {},
   "outputs": [
    {
     "data": {
      "text/plain": [
       "False    609\n",
       "True       2\n",
       "Name: illness, dtype: int64"
      ]
     },
     "execution_count": 30,
     "metadata": {},
     "output_type": "execute_result"
    }
   ],
   "source": [
    "def illness(text):\n",
    "    if ('illness' in text.lower()):\n",
    "        return True\n",
    "    else:\n",
    "        return False\n",
    "\n",
    "df['illness'] = df.news.map(illness)\n",
    "df.illness.value_counts()"
   ]
  },
  {
   "cell_type": "code",
   "execution_count": 31,
   "metadata": {},
   "outputs": [],
   "source": [
    "df = df[df['left_team'] == False]"
   ]
  },
  {
   "cell_type": "code",
   "execution_count": 32,
   "metadata": {},
   "outputs": [
    {
     "data": {
      "text/plain": [
       "\"df = df[df['illness'] == False]\\ndf = df[df['injury'] == False]\""
      ]
     },
     "execution_count": 32,
     "metadata": {},
     "output_type": "execute_result"
    }
   ],
   "source": [
    "'''df = df[df['illness'] == False]\n",
    "df = df[df['injury'] == False]'''"
   ]
  },
  {
   "cell_type": "code",
   "execution_count": 33,
   "metadata": {},
   "outputs": [
    {
     "name": "stdout",
     "output_type": "stream",
     "text": [
      "<class 'pandas.core.frame.DataFrame'>\n",
      "Int64Index: 539 entries, 0 to 610\n",
      "Data columns (total 33 columns):\n",
      "chance_of_playing_next_round    378 non-null float64\n",
      "chance_of_playing_this_round    374 non-null float64\n",
      "cost_change_event               539 non-null int64\n",
      "cost_change_event_fall          539 non-null int64\n",
      "cost_change_start               539 non-null int64\n",
      "cost_change_start_fall          539 non-null int64\n",
      "dreamteam_count                 539 non-null int64\n",
      "ep_next                         539 non-null object\n",
      "ep_this                         539 non-null object\n",
      "event_points                    539 non-null int64\n",
      "form                            539 non-null float64\n",
      "in_dreamteam                    539 non-null bool\n",
      "news                            539 non-null object\n",
      "news_added                      378 non-null object\n",
      "price                           539 non-null float64\n",
      "selected_by_percent             539 non-null float64\n",
      "team                            539 non-null object\n",
      "total_points                    539 non-null int64\n",
      "transfers_in                    539 non-null int64\n",
      "gw_transfers_in                 539 non-null int64\n",
      "transfers_out                   539 non-null int64\n",
      "gw_transfers_out                539 non-null int64\n",
      "bonus                           539 non-null int64\n",
      "bps                             539 non-null int64\n",
      "influence                       539 non-null float64\n",
      "creativity                      539 non-null float64\n",
      "threat                          539 non-null float64\n",
      "ict_index                       539 non-null float64\n",
      "name                            539 non-null object\n",
      "form_weighted_tp                539 non-null float64\n",
      "left_team                       539 non-null bool\n",
      "injury                          539 non-null bool\n",
      "illness                         539 non-null bool\n",
      "dtypes: bool(4), float64(10), int64(13), object(6)\n",
      "memory usage: 128.4+ KB\n"
     ]
    }
   ],
   "source": [
    "df.info()"
   ]
  },
  {
   "cell_type": "code",
   "execution_count": 34,
   "metadata": {},
   "outputs": [
    {
     "data": {
      "text/plain": [
       "\"'df=pd.get_dummies(df, columns=['country','variety'])\""
      ]
     },
     "execution_count": 34,
     "metadata": {},
     "output_type": "execute_result"
    }
   ],
   "source": [
    "''''df=pd.get_dummies(df, columns=['country','variety'])'''"
   ]
  },
  {
   "cell_type": "code",
   "execution_count": 35,
   "metadata": {},
   "outputs": [
    {
     "data": {
      "text/plain": [
       "<bound method NDFrame.head of 0      5\n",
       "1      8\n",
       "2      0\n",
       "3      0\n",
       "4      0\n",
       "      ..\n",
       "606    0\n",
       "607    0\n",
       "608    0\n",
       "609    0\n",
       "610    0\n",
       "Name: event_points, Length: 539, dtype: int64>"
      ]
     },
     "execution_count": 35,
     "metadata": {},
     "output_type": "execute_result"
    }
   ],
   "source": [
    "df.event_points.head"
   ]
  },
  {
   "cell_type": "code",
   "execution_count": null,
   "metadata": {},
   "outputs": [],
   "source": []
  }
 ],
 "metadata": {
  "kernelspec": {
   "display_name": "Python 3",
   "language": "python",
   "name": "python3"
  },
  "language_info": {
   "codemirror_mode": {
    "name": "ipython",
    "version": 3
   },
   "file_extension": ".py",
   "mimetype": "text/x-python",
   "name": "python",
   "nbconvert_exporter": "python",
   "pygments_lexer": "ipython3",
   "version": "3.7.5"
  }
 },
 "nbformat": 4,
 "nbformat_minor": 2
}
